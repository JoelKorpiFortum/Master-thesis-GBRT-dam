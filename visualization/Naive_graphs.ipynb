{
 "cells": [
  {
   "cell_type": "markdown",
   "metadata": {},
   "source": [
    "# Graphs for Seasonal Naive model"
   ]
  },
  {
   "cell_type": "code",
   "execution_count": 5,
   "metadata": {},
   "outputs": [],
   "source": [
    "import pickle\n",
    "import matplotlib.pyplot as plt\n",
    "import matplotlib.gridspec as gridspec\n",
    "import matplotlib.style as style\n",
    "import numpy as np\n",
    "import pandas as pd\n",
    "from sklearn.metrics import roc_curve, auc\n",
    "%matplotlib inline\n",
    "style.use('seaborn-v0_8-ticks')"
   ]
  },
  {
   "cell_type": "markdown",
   "metadata": {},
   "source": [
    "*Available targets = { 'ÖVY', 'MB1_AM_L1', 'MB1_AM_L3', 'MB1_HM_L51', 'MB4_A_D', 'MB8_A_D', 'MB10_A_D', 'MB18_A_D'}*"
   ]
  },
  {
   "cell_type": "code",
   "execution_count": 10,
   "metadata": {},
   "outputs": [
    {
     "ename": "FileNotFoundError",
     "evalue": "[Errno 2] No such file or directory: 'plotting_data/Naive_MB1_HM_L51_plotting_data.pkl'",
     "output_type": "error",
     "traceback": [
      "\u001b[1;31m---------------------------------------------------------------------------\u001b[0m",
      "\u001b[1;31mFileNotFoundError\u001b[0m                         Traceback (most recent call last)",
      "Cell \u001b[1;32mIn[10], line 3\u001b[0m\n\u001b[0;32m      1\u001b[0m target \u001b[38;5;241m=\u001b[39m \u001b[38;5;124m\"\u001b[39m\u001b[38;5;124mMB1_HM_L51\u001b[39m\u001b[38;5;124m\"\u001b[39m\n\u001b[1;32m----> 3\u001b[0m \u001b[38;5;28;01mwith\u001b[39;00m \u001b[38;5;28mopen\u001b[39m(\u001b[38;5;124mf\u001b[39m\u001b[38;5;124m'\u001b[39m\u001b[38;5;124mplotting_data/Naive_\u001b[39m\u001b[38;5;132;01m{\u001b[39;00mtarget\u001b[38;5;132;01m}\u001b[39;00m\u001b[38;5;124m_plotting_data.pkl\u001b[39m\u001b[38;5;124m'\u001b[39m, \u001b[38;5;124m'\u001b[39m\u001b[38;5;124mrb\u001b[39m\u001b[38;5;124m'\u001b[39m) \u001b[38;5;28;01mas\u001b[39;00m f:\n\u001b[0;32m      4\u001b[0m     plotting_data \u001b[38;5;241m=\u001b[39m pickle\u001b[38;5;241m.\u001b[39mload(f)\n\u001b[0;32m      6\u001b[0m \u001b[38;5;66;03m# Extract data for plotting\u001b[39;00m\n",
      "File \u001b[1;32mc:\\Users\\xkorpijo3\\AppData\\Local\\miniconda3\\envs\\test_env\\Lib\\site-packages\\IPython\\core\\interactiveshell.py:324\u001b[0m, in \u001b[0;36m_modified_open\u001b[1;34m(file, *args, **kwargs)\u001b[0m\n\u001b[0;32m    317\u001b[0m \u001b[38;5;28;01mif\u001b[39;00m file \u001b[38;5;129;01min\u001b[39;00m {\u001b[38;5;241m0\u001b[39m, \u001b[38;5;241m1\u001b[39m, \u001b[38;5;241m2\u001b[39m}:\n\u001b[0;32m    318\u001b[0m     \u001b[38;5;28;01mraise\u001b[39;00m \u001b[38;5;167;01mValueError\u001b[39;00m(\n\u001b[0;32m    319\u001b[0m         \u001b[38;5;124mf\u001b[39m\u001b[38;5;124m\"\u001b[39m\u001b[38;5;124mIPython won\u001b[39m\u001b[38;5;124m'\u001b[39m\u001b[38;5;124mt let you open fd=\u001b[39m\u001b[38;5;132;01m{\u001b[39;00mfile\u001b[38;5;132;01m}\u001b[39;00m\u001b[38;5;124m by default \u001b[39m\u001b[38;5;124m\"\u001b[39m\n\u001b[0;32m    320\u001b[0m         \u001b[38;5;124m\"\u001b[39m\u001b[38;5;124mas it is likely to crash IPython. If you know what you are doing, \u001b[39m\u001b[38;5;124m\"\u001b[39m\n\u001b[0;32m    321\u001b[0m         \u001b[38;5;124m\"\u001b[39m\u001b[38;5;124myou can use builtins\u001b[39m\u001b[38;5;124m'\u001b[39m\u001b[38;5;124m open.\u001b[39m\u001b[38;5;124m\"\u001b[39m\n\u001b[0;32m    322\u001b[0m     )\n\u001b[1;32m--> 324\u001b[0m \u001b[38;5;28;01mreturn\u001b[39;00m io_open(file, \u001b[38;5;241m*\u001b[39margs, \u001b[38;5;241m*\u001b[39m\u001b[38;5;241m*\u001b[39mkwargs)\n",
      "\u001b[1;31mFileNotFoundError\u001b[0m: [Errno 2] No such file or directory: 'plotting_data/Naive_MB1_HM_L51_plotting_data.pkl'"
     ]
    }
   ],
   "source": [
    "target = \"MB1_HM_L51\"\n",
    "\n",
    "with open(f'plotting_data/Naive_{target}_plotting_data.pkl', 'rb') as f:\n",
    "    plotting_data = pickle.load(f)\n",
    "\n",
    "# Extract data for plotting\n",
    "dates = plotting_data['dates']\n",
    "actual_y = plotting_data['actual_y']\n",
    "split_idx = plotting_data['split_idx']\n",
    "predictions = plotting_data['predictions']\n",
    "non_predictions = plotting_data['non_predicitons']\n",
    "RMSE = plotting_data['RMSE']\n",
    "MAE = plotting_data['MAE']\n",
    "WILMOTT = plotting_data['WILMOTT']\n",
    "NSE = plotting_data['NSE']\n",
    "\n",
    "y_train = actual_y.iloc[:split_idx]\n",
    "dates_train = dates.iloc[:split_idx]\n",
    "y_test = actual_y.iloc[split_idx:]\n",
    "dates_test = dates.iloc[split_idx:]\n",
    "\n",
    "all_predictions = pd.concat((predictions, non_predictions))\n",
    "\n",
    "plt.clf()\n",
    "fig, (ax1, ax2) = plt.subplots(2, 1, figsize=(14, 6), gridspec_kw={'height_ratios': [3, 1]}, sharex=True)  \n",
    "\n",
    "# Data and predictions\n",
    "ax1.scatter(dates, actual_y, color='blue', s=0.5, label='Obs.')\n",
    "ax1.plot(dates, actual_y, color='blue', linewidth=0.5, alpha=0.3)\n",
    "ax1.plot(dates_test, predictions, color='red', linewidth=1, label='Seasonal Naive')\n",
    "ax1.plot(dates_train, non_predictions, color='red', linewidth=1, alpha=0.3)\n",
    "ax1.axvline(x=dates.iloc[split_idx], color='black', alpha=0.8, linestyle=':')\n",
    "ax1.set_ylabel('MB1_HM_L51 (m)', color='blue', fontsize=11)\n",
    "ax1.tick_params(axis='y', labelcolor='blue')\n",
    "ax1.legend(loc='upper left', fontsize=11, ncols=2, markerscale=5, \\\n",
    "           columnspacing=0.6, handlelength=1.3, handletextpad=0.3, borderpad=0.2)\n",
    "ax1.set_title(f'Seasonal Naive Predictions and Residuals: {target}', fontsize=18, fontweight='bold')\n",
    "ax1.grid()\n",
    "\n",
    "# Residuals\n",
    "residuals = actual_y - all_predictions\n",
    "ax2.scatter(dates, residuals, color='purple', s=1)\n",
    "ax2.axhline(y=0, color='gray', linewidth=0.6, linestyle='-')\n",
    "ax2.set_ylabel(r'$\\epsilon$ (m)', color='purple', fontsize=12)\n",
    "# ax2.set_ylim(-10, 10)\n",
    "# ax2.set_yticks(range(-10, 11, 4))\n",
    "ax2.tick_params(axis='y', labelcolor='purple')\n",
    "\n",
    "# Formatting\n",
    "plt.xticks(rotation=45)  \n",
    "fig.tight_layout()  \n",
    "\n",
    "# Text\n",
    "fig.subplots_adjust(right=0.6)\n",
    "rmse_text = f'RMSE: {RMSE:.3f}'\n",
    "mae_text = f'MAE: {MAE:.3f}'\n",
    "wilmott_text = f\"WILMOTT's d: {WILMOTT:.3f}\"\n",
    "NSE_text = f\"NSE: {NSE:.3f}\"\n",
    "\n",
    "metrics_text = '\\n'.join([rmse_text, mae_text, wilmott_text, NSE_text])\n",
    "fig.text(0.64, 0.92, metrics_text, verticalalignment='top', fontweight='bold', fontsize=12)\n",
    "\n",
    "ax3 = fig.add_axes([0.65, 0.09, 0.2, 0.4]) # Manually placed\n",
    "\n",
    "# Add a grey diagonal line from bottom-left to top-right\n",
    "min_val = min(actual_y.min(), predictions.min())\n",
    "max_val = max(actual_y.max(), predictions.max())\n",
    "ax3.plot([min_val, max_val], [min_val, max_val], color='grey', linestyle='--', linewidth=1)\n",
    "ax3.scatter(actual_y, all_predictions, color='blue', alpha=0.1, s=0.5, marker='D')\n",
    "ax3.set_xlabel('Measurements (m)', fontsize=10)\n",
    "ax3.set_ylabel('Predicted values (m)', fontsize=10)\n",
    "ax3.set_title('Predicted vs Actual', fontsize=12)\n",
    "\n",
    "plt.show()"
   ]
  }
 ],
 "metadata": {
  "kernelspec": {
   "display_name": "test_env",
   "language": "python",
   "name": "python3"
  },
  "language_info": {
   "codemirror_mode": {
    "name": "ipython",
    "version": 3
   },
   "file_extension": ".py",
   "mimetype": "text/x-python",
   "name": "python",
   "nbconvert_exporter": "python",
   "pygments_lexer": "ipython3",
   "version": "3.12.8"
  }
 },
 "nbformat": 4,
 "nbformat_minor": 2
}
