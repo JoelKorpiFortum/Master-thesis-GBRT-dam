{
 "cells": [
  {
   "cell_type": "markdown",
   "id": "cb60609e-9b1f-4738-aacf-42bcdf8f28ea",
   "metadata": {},
   "source": [
    "## Notebook execution in Jupyter for hyperparameter tuning"
   ]
  },
  {
   "cell_type": "code",
   "execution_count": 7,
   "id": "8b04d890-fbb2-47ef-82a5-272960b9bd28",
   "metadata": {},
   "outputs": [],
   "source": [
    "import os\n",
    "os.getcwd()"
   ]
  },
  {
   "cell_type": "code",
   "execution_count": null,
   "id": "c953144f-b001-4106-b9eb-e293f4096a3a",
   "metadata": {},
   "outputs": [],
   "source": [
    "!python ./models/XGBoost.py"
   ]
  },
  {
   "cell_type": "code",
   "execution_count": null,
   "id": "a2cdcc61-9e01-4102-9e94-fc1e2c57aa42",
   "metadata": {},
   "outputs": [],
   "source": [
    "!python ./models/LightGBM.py"
   ]
  },
  {
   "cell_type": "code",
   "execution_count": null,
   "id": "8f2a6be5-ae50-4a85-8422-5b81386cd953",
   "metadata": {},
   "outputs": [],
   "source": [
    "!python ./models/GBRT.py"
   ]
  }
 ],
 "metadata": {
  "kernelspec": {
   "display_name": "Python 3 (ipykernel)",
   "language": "python",
   "name": "python3"
  },
  "language_info": {
   "codemirror_mode": {
    "name": "ipython",
    "version": 3
   },
   "file_extension": ".py",
   "mimetype": "text/x-python",
   "name": "python",
   "nbconvert_exporter": "python",
   "pygments_lexer": "ipython3",
   "version": "3.11.10"
  }
 },
 "nbformat": 4,
 "nbformat_minor": 5
}
