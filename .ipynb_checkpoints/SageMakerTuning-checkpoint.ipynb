{
 "cells": [
  {
   "cell_type": "markdown",
   "id": "cb60609e-9b1f-4738-aacf-42bcdf8f28ea",
   "metadata": {},
   "source": [
    "## Notebook execution in Jupyter for hyperparameter tuning"
   ]
  },
  {
   "cell_type": "code",
   "execution_count": 7,
   "id": "8b04d890-fbb2-47ef-82a5-272960b9bd28",
   "metadata": {},
   "outputs": [],
   "source": [
    "import os\n",
    "os.getcwd()"
   ]
  },
  {
   "cell_type": "code",
   "execution_count": 3,
   "id": "c953144f-b001-4106-b9eb-e293f4096a3a",
   "metadata": {},
   "outputs": [
    {
     "name": "stdout",
     "output_type": "stream",
     "text": [
      "Fitting 3 folds for each of 2 candidates, totalling 6 fits\n",
      "RMSE_CV: 3.974119193467016\n",
      "RMSE_train: 0.6580650534496519\n",
      "RMSE_test: 1.660216171863753\n",
      "MAE_test: 1.1082729011577865\n",
      "Willmott's d Test: 0.9581825275586634\n",
      "Nash-Sutcliffe Test: 0.8603511027112662\n",
      "Best parameters: {'booster': 'gbtree', 'colsample_bytree': 0.6, 'learning_rate': 0.01, 'max_depth': 3, 'min_child_weight': 1, 'n_estimators': 500, 'random_state': 42, 'reg_lambda': 1.5, 'subsample': 1.0}\n",
      "Elapsed time: 15.2064 seconds\n"
     ]
    }
   ],
   "source": [
    "!python ./models/XGBoost.py"
   ]
  },
  {
   "cell_type": "code",
   "execution_count": 5,
   "id": "a2cdcc61-9e01-4102-9e94-fc1e2c57aa42",
   "metadata": {},
   "outputs": [
    {
     "name": "stdout",
     "output_type": "stream",
     "text": [
      "/opt/conda/lib/python3.11/site-packages/dask/dataframe/__init__.py:42: FutureWarning: \n",
      "Dask dataframe query planning is disabled because dask-expr is not installed.\n",
      "\n",
      "You can install it with `pip install dask[dataframe]` or `conda install dask`.\n",
      "This will raise in a future version.\n",
      "\n",
      "  warnings.warn(msg, FutureWarning)\n",
      "Fitting 3 folds for each of 4 candidates, totalling 12 fits\n",
      "/opt/conda/lib/python3.11/site-packages/dask/dataframe/__init__.py:42: FutureWarning: \n",
      "Dask dataframe query planning is disabled because dask-expr is not installed.\n",
      "\n",
      "You can install it with `pip install dask[dataframe]` or `conda install dask`.\n",
      "This will raise in a future version.\n",
      "\n",
      "  warnings.warn(msg, FutureWarning)\n",
      "/opt/conda/lib/python3.11/site-packages/dask/dataframe/__init__.py:42: FutureWarning: \n",
      "Dask dataframe query planning is disabled because dask-expr is not installed.\n",
      "\n",
      "You can install it with `pip install dask[dataframe]` or `conda install dask`.\n",
      "This will raise in a future version.\n",
      "\n",
      "  warnings.warn(msg, FutureWarning)\n",
      "RMSE_CV: 3.974115351732209\n",
      "RMSE_train: 0.6668820614149508\n",
      "RMSE_test: 1.6313155362886052\n",
      "MAE_test: 1.085724644149376\n",
      "Willmott's d Test: 0.959746763823415\n",
      "Nash-Sutcliffe Test: 0.865170732364295\n",
      "N iter: 500\n",
      "Best parameters: {'boosting_type': 'gbdt', 'colsample_bytree': 0.8, 'learning_rate': 0.01, 'linear_tree': False, 'max_depth': 3, 'min_child_weight': 1, 'n_estimators': 500, 'random_state': 42, 'reg_alpha': 3, 'reg_lambda': 5, 'subsample': 0.6}\n",
      "Elapsed time: 78.3012 seconds\n"
     ]
    }
   ],
   "source": [
    "!python ./models/LightGBM.py"
   ]
  },
  {
   "cell_type": "code",
   "execution_count": 6,
   "id": "8f2a6be5-ae50-4a85-8422-5b81386cd953",
   "metadata": {},
   "outputs": [
    {
     "name": "stdout",
     "output_type": "stream",
     "text": [
      "Features used in the GBRT model:\n",
      "Index(['Sin_s', 'Cos_s', 'Sin_2s', 'Cos_2s', 't', 'ln_t', 'month', 'year',\n",
      "       'GV1', 'GV3', 'GV51', 'MB8', 'MB10', 'MB18', 'h', 'h_MA_007',\n",
      "       'h_MA_014', 'h_RC_007', 'h_RC_030', 'P', 'P_RS_030', 'P_RS_060',\n",
      "       'P_RS_090', 'P_RS_180', 'T', 'T_MA_001', 'T_MA_007'],\n",
      "      dtype='object')\n",
      "RMSE_CV: 4.048461843966492\n",
      "RMSE_train: 0.66118825789621\n",
      "RMSE_test: 1.5388149818120436\n",
      "MAE_test: 1.0090872381629967\n",
      "Willmott's d Test: 0.9661542706787253\n",
      "Nash-Sutcliffe Test: 0.8800276840115232\n",
      "N iter: 500\n",
      "Best parameters: {'early_stopping': 'auto', 'l2_regularization': 1, 'learning_rate': 0.01, 'max_depth': 3, 'max_iter': 500, 'min_samples_leaf': 10, 'random_state': 42}\n",
      "Elapsed time: 104.2679 seconds\n"
     ]
    }
   ],
   "source": [
    "!python ./models/GBRT.py"
   ]
  }
 ],
 "metadata": {
  "kernelspec": {
   "display_name": "Python 3 (ipykernel)",
   "language": "python",
   "name": "python3"
  },
  "language_info": {
   "codemirror_mode": {
    "name": "ipython",
    "version": 3
   },
   "file_extension": ".py",
   "mimetype": "text/x-python",
   "name": "python",
   "nbconvert_exporter": "python",
   "pygments_lexer": "ipython3",
   "version": "3.11.10"
  }
 },
 "nbformat": 4,
 "nbformat_minor": 5
}
